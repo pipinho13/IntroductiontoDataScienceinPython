{
 "cells": [
  {
   "cell_type": "markdown",
   "metadata": {},
   "source": [
    "---\n",
    "\n",
    "_You are currently looking at **version 1.1** of this notebook. To download notebooks and datafiles, as well as get help on Jupyter notebooks in the Coursera platform, visit the [Jupyter Notebook FAQ](https://www.coursera.org/learn/python-data-analysis/resources/0dhYG) course resource._\n",
    "\n",
    "---"
   ]
  },
  {
   "cell_type": "code",
   "execution_count": 1,
   "metadata": {
    "collapsed": true
   },
   "outputs": [],
   "source": [
    "import pandas as pd\n",
    "import numpy as np\n",
    "import re\n",
    "from scipy.stats import ttest_ind"
   ]
  },
  {
   "cell_type": "markdown",
   "metadata": {},
   "source": [
    "# Assignment 4 - Hypothesis Testing\n",
    "This assignment requires more individual learning than previous assignments - you are encouraged to check out the [pandas documentation](http://pandas.pydata.org/pandas-docs/stable/) to find functions or methods you might not have used yet, or ask questions on [Stack Overflow](http://stackoverflow.com/) and tag them as pandas and python related. And of course, the discussion forums are open for interaction with your peers and the course staff.\n",
    "\n",
    "Definitions:\n",
    "* A _quarter_ is a specific three month period, Q1 is January through March, Q2 is April through June, Q3 is July through September, Q4 is October through December.\n",
    "* A _recession_ is defined as starting with two consecutive quarters of GDP decline, and ending with two consecutive quarters of GDP growth.\n",
    "* A _recession bottom_ is the quarter within a recession which had the lowest GDP.\n",
    "* A _university town_ is a city which has a high percentage of university students compared to the total population of the city.\n",
    "\n",
    "**Hypothesis**: University towns have their mean housing prices less effected by recessions. Run a t-test to compare the ratio of the mean price of houses in university towns the quarter before the recession starts compared to the recession bottom. (`price_ratio=quarter_before_recession/recession_bottom`)\n",
    "\n",
    "The following data files are available for this assignment:\n",
    "* From the [Zillow research data site](http://www.zillow.com/research/data/) there is housing data for the United States. In particular the datafile for [all homes at a city level](http://files.zillowstatic.com/research/public/City/City_Zhvi_AllHomes.csv), ```City_Zhvi_AllHomes.csv```, has median home sale prices at a fine grained level.\n",
    "* From the Wikipedia page on college towns is a list of [university towns in the United States](https://en.wikipedia.org/wiki/List_of_college_towns#College_towns_in_the_United_States) which has been copy and pasted into the file ```university_towns.txt```.\n",
    "* From Bureau of Economic Analysis, US Department of Commerce, the [GDP over time](http://www.bea.gov/national/index.htm#gdp) of the United States in current dollars (use the chained value in 2009 dollars), in quarterly intervals, in the file ```gdplev.xls```. For this assignment, only look at GDP data from the first quarter of 2000 onward.\n",
    "\n",
    "Each function in this assignment below is worth 10%, with the exception of ```run_ttest()```, which is worth 50%."
   ]
  },
  {
   "cell_type": "code",
   "execution_count": 2,
   "metadata": {
    "collapsed": false
   },
   "outputs": [],
   "source": [
    "# Use this dictionary to map state names to two letter acronyms\n",
    "states = {'OH': 'Ohio', 'KY': 'Kentucky', 'AS': 'American Samoa', 'NV': 'Nevada', 'WY': 'Wyoming', 'NA': 'National', 'AL': 'Alabama', 'MD': 'Maryland', 'AK': 'Alaska', 'UT': 'Utah', 'OR': 'Oregon', 'MT': 'Montana', 'IL': 'Illinois', 'TN': 'Tennessee', 'DC': 'District of Columbia', 'VT': 'Vermont', 'ID': 'Idaho', 'AR': 'Arkansas', 'ME': 'Maine', 'WA': 'Washington', 'HI': 'Hawaii', 'WI': 'Wisconsin', 'MI': 'Michigan', 'IN': 'Indiana', 'NJ': 'New Jersey', 'AZ': 'Arizona', 'GU': 'Guam', 'MS': 'Mississippi', 'PR': 'Puerto Rico', 'NC': 'North Carolina', 'TX': 'Texas', 'SD': 'South Dakota', 'MP': 'Northern Mariana Islands', 'IA': 'Iowa', 'MO': 'Missouri', 'CT': 'Connecticut', 'WV': 'West Virginia', 'SC': 'South Carolina', 'LA': 'Louisiana', 'KS': 'Kansas', 'NY': 'New York', 'NE': 'Nebraska', 'OK': 'Oklahoma', 'FL': 'Florida', 'CA': 'California', 'CO': 'Colorado', 'PA': 'Pennsylvania', 'DE': 'Delaware', 'NM': 'New Mexico', 'RI': 'Rhode Island', 'MN': 'Minnesota', 'VI': 'Virgin Islands', 'NH': 'New Hampshire', 'MA': 'Massachusetts', 'GA': 'Georgia', 'ND': 'North Dakota', 'VA': 'Virginia'}"
   ]
  },
  {
   "cell_type": "code",
   "execution_count": 3,
   "metadata": {
    "collapsed": false
   },
   "outputs": [],
   "source": [
    "#!cat university_towns.txt"
   ]
  },
  {
   "cell_type": "code",
   "execution_count": 4,
   "metadata": {
    "collapsed": true
   },
   "outputs": [],
   "source": [
    "a_string = 'this is a string (in python) with brackets [like this one]'"
   ]
  },
  {
   "cell_type": "code",
   "execution_count": 5,
   "metadata": {
    "collapsed": false
   },
   "outputs": [
    {
     "data": {
      "text/plain": [
       "('this is a string (in python) with brackets ', '[', 'like this one]')"
      ]
     },
     "execution_count": 5,
     "metadata": {},
     "output_type": "execute_result"
    }
   ],
   "source": [
    "a_string.partition('[')"
   ]
  },
  {
   "cell_type": "code",
   "execution_count": 6,
   "metadata": {
    "collapsed": false
   },
   "outputs": [
    {
     "data": {
      "text/plain": [
       "['this is a string (in python) with brackets ', 'like this one]']"
      ]
     },
     "execution_count": 6,
     "metadata": {},
     "output_type": "execute_result"
    }
   ],
   "source": [
    "a_string.split('[')"
   ]
  },
  {
   "cell_type": "code",
   "execution_count": 7,
   "metadata": {
    "collapsed": false
   },
   "outputs": [],
   "source": [
    "#!cat gdplev.xls"
   ]
  },
  {
   "cell_type": "code",
   "execution_count": 8,
   "metadata": {
    "collapsed": false
   },
   "outputs": [],
   "source": [
    "#test=pd.read_fwf('university_towns.txt', header=None, names=['ST'])\n",
    "#test.ST.apply(lambda x: re.search('(.+)\\[edit\\]',x))"
   ]
  },
  {
   "cell_type": "code",
   "execution_count": 9,
   "metadata": {
    "collapsed": false
   },
   "outputs": [
    {
     "data": {
      "text/html": [
       "<div>\n",
       "<table border=\"1\" class=\"dataframe\">\n",
       "  <thead>\n",
       "    <tr style=\"text-align: right;\">\n",
       "      <th></th>\n",
       "      <th>State</th>\n",
       "      <th>RegionName</th>\n",
       "    </tr>\n",
       "  </thead>\n",
       "  <tbody>\n",
       "    <tr>\n",
       "      <th>0</th>\n",
       "      <td>Alabama</td>\n",
       "      <td>Auburn</td>\n",
       "    </tr>\n",
       "    <tr>\n",
       "      <th>1</th>\n",
       "      <td>Alabama</td>\n",
       "      <td>Florence</td>\n",
       "    </tr>\n",
       "    <tr>\n",
       "      <th>2</th>\n",
       "      <td>Alabama</td>\n",
       "      <td>Jacksonville</td>\n",
       "    </tr>\n",
       "    <tr>\n",
       "      <th>3</th>\n",
       "      <td>Alabama</td>\n",
       "      <td>Livingston</td>\n",
       "    </tr>\n",
       "    <tr>\n",
       "      <th>4</th>\n",
       "      <td>Alabama</td>\n",
       "      <td>Montevallo</td>\n",
       "    </tr>\n",
       "    <tr>\n",
       "      <th>5</th>\n",
       "      <td>Alabama</td>\n",
       "      <td>Troy</td>\n",
       "    </tr>\n",
       "    <tr>\n",
       "      <th>6</th>\n",
       "      <td>Alabama</td>\n",
       "      <td>Tuscaloosa</td>\n",
       "    </tr>\n",
       "    <tr>\n",
       "      <th>7</th>\n",
       "      <td>Alabama</td>\n",
       "      <td>Tuskegee</td>\n",
       "    </tr>\n",
       "    <tr>\n",
       "      <th>8</th>\n",
       "      <td>Alaska</td>\n",
       "      <td>Fairbanks</td>\n",
       "    </tr>\n",
       "    <tr>\n",
       "      <th>9</th>\n",
       "      <td>Arizona</td>\n",
       "      <td>Flagstaff</td>\n",
       "    </tr>\n",
       "  </tbody>\n",
       "</table>\n",
       "</div>"
      ],
      "text/plain": [
       "     State    RegionName\n",
       "0  Alabama        Auburn\n",
       "1  Alabama      Florence\n",
       "2  Alabama  Jacksonville\n",
       "3  Alabama    Livingston\n",
       "4  Alabama    Montevallo\n",
       "5  Alabama          Troy\n",
       "6  Alabama    Tuscaloosa\n",
       "7  Alabama      Tuskegee\n",
       "8   Alaska     Fairbanks\n",
       "9  Arizona     Flagstaff"
      ]
     },
     "execution_count": 9,
     "metadata": {},
     "output_type": "execute_result"
    }
   ],
   "source": [
    "def get_list_of_university_towns():\n",
    "    '''Returns a DataFrame of towns and the states they are in from the \n",
    "    university_towns.txt list. The format of the DataFrame should be:\n",
    "    DataFrame( [ [\"Michigan\", \"Ann Arbor\"], [\"Michigan\", \"Yipsilanti\"] ], \n",
    "    columns=[\"State\", \"RegionName\"]  )\n",
    "    \n",
    "    The following cleaning needs to be done:\n",
    "\n",
    "    1. For \"State\", removing characters from \"[\" to the end.\n",
    "    2. For \"RegionName\", when applicable, removing every character from \" (\" to the end.\n",
    "    3. Depending on how you read the data, you may need to remove newline character '\\n'.'''\n",
    "    \n",
    "    with open('university_towns.txt', mode='r+' , encoding='utf8') as f:\n",
    "        data = []\n",
    "        \n",
    "        for line in f:\n",
    "            m = re.search('(.+)\\[edit\\]',line) #get state\n",
    "            if m:\n",
    "                state=m.group(1)\n",
    "            else:\n",
    "                town = line.split('(')[0].strip()\n",
    "                data.append([state,town])\n",
    "    \n",
    "    unitowns = pd.DataFrame(data,columns=[\"State\",\"RegionName\"])\n",
    "\n",
    "    return unitowns\n",
    "\n",
    "get_list_of_university_towns().head(10)"
   ]
  },
  {
   "cell_type": "code",
   "execution_count": 10,
   "metadata": {
    "collapsed": false
   },
   "outputs": [],
   "source": [
    "def fx(x1,x2,x3):\n",
    "    if x2<x1 and x3<x2:\n",
    "        return 'recession'\n",
    "    else:\n",
    "        return 'other'"
   ]
  },
  {
   "cell_type": "code",
   "execution_count": 11,
   "metadata": {
    "collapsed": true
   },
   "outputs": [],
   "source": [
    "def fre(x1,x2,x3):\n",
    "    if x2>x1 and x3>x2:\n",
    "        return 'recessionEnds'\n",
    "    else:\n",
    "        return 'other'"
   ]
  },
  {
   "cell_type": "code",
   "execution_count": 12,
   "metadata": {
    "collapsed": false
   },
   "outputs": [],
   "source": [
    "#test['Difference']=test['GDP'].diff(periods=1)"
   ]
  },
  {
   "cell_type": "code",
   "execution_count": 13,
   "metadata": {
    "collapsed": false
   },
   "outputs": [],
   "source": [
    "#test['Sign']=test['Difference'].apply(lambda x: 'positive' if x>=0 else 'negative')"
   ]
  },
  {
   "cell_type": "code",
   "execution_count": 14,
   "metadata": {
    "collapsed": false
   },
   "outputs": [],
   "source": [
    "def get_recession_start():\n",
    "    '''Returns the year and quarter of the recession start time as a \n",
    "    string value in a format such as 2005q3'''\n",
    "    test = pd.read_excel('gdplev.xls', header=None, skiprows=8, parse_cols =[4,5], names=['Quarter', 'GDP'])\n",
    "    test['GDP_II']=test['GDP'].shift(periods=-1)\n",
    "    test['GDP_III']=test['GDP'].shift(periods=-2)\n",
    "    test['GDP_IV']=test['GDP'].shift(periods=-3)\n",
    "    test['GDP_V']=test['GDP'].shift(periods=-4)\n",
    "    test['RecessionStarts']=np.vectorize(fx)(test['GDP'], test['GDP_II'],test['GDP_III'])\n",
    "    test=test.loc[(test['RecessionStarts']=='recession') & (test['Quarter']>='2000q1')]\n",
    "    \n",
    "    return test['Quarter'].iloc[0]"
   ]
  },
  {
   "cell_type": "code",
   "execution_count": 15,
   "metadata": {
    "collapsed": false
   },
   "outputs": [
    {
     "data": {
      "text/plain": [
       "'2008q3'"
      ]
     },
     "execution_count": 15,
     "metadata": {},
     "output_type": "execute_result"
    }
   ],
   "source": [
    "get_recession_start()"
   ]
  },
  {
   "cell_type": "code",
   "execution_count": 16,
   "metadata": {
    "collapsed": false
   },
   "outputs": [],
   "source": [
    "def get_recession_end():\n",
    "    '''Returns the year and quarter of the recession end time as a \n",
    "    string value in a format such as 2005q3'''\n",
    "    test = pd.read_excel('gdplev.xls', header=None, skiprows=8, parse_cols =[4,5], names=['Quarter', 'GDP'])\n",
    "    test['GDP_II']=test['GDP'].shift(periods=-1)\n",
    "    test['GDP_III']=test['GDP'].shift(periods=-2)\n",
    "    test['GDP_IV']=test['GDP'].shift(periods=-3)\n",
    "    test['GDP_V']=test['GDP'].shift(periods=-4)\n",
    "    test=test.loc[test['Quarter']>=get_recession_start()]\n",
    "    test['RecessionEnds']=np.vectorize(fre)(test['GDP'], test['GDP_II'],test['GDP_III'])\n",
    "    #test['RecessionEndsII']=test['RecessionEnds'].shift(-1)\n",
    "    test=test.loc[(test['RecessionEnds']=='recessionEnds') ]  \n",
    "    return test['Quarter'].iloc[2]"
   ]
  },
  {
   "cell_type": "code",
   "execution_count": 17,
   "metadata": {
    "collapsed": false
   },
   "outputs": [
    {
     "data": {
      "text/plain": [
       "'2009q4'"
      ]
     },
     "execution_count": 17,
     "metadata": {},
     "output_type": "execute_result"
    }
   ],
   "source": [
    "get_recession_end()"
   ]
  },
  {
   "cell_type": "code",
   "execution_count": 18,
   "metadata": {
    "collapsed": true
   },
   "outputs": [],
   "source": [
    "test = pd.read_excel('gdplev.xls', header=None, skiprows=8, parse_cols =[4,5], names=['Quarter', 'GDP'])"
   ]
  },
  {
   "cell_type": "code",
   "execution_count": 19,
   "metadata": {
    "collapsed": false
   },
   "outputs": [
    {
     "data": {
      "text/plain": [
       "249"
      ]
     },
     "execution_count": 19,
     "metadata": {},
     "output_type": "execute_result"
    }
   ],
   "source": [
    "test.loc[(test['Quarter']>=get_recession_start()) & (test['Quarter']<=get_recession_end())]['GDP'].argmin()"
   ]
  },
  {
   "cell_type": "code",
   "execution_count": 20,
   "metadata": {
    "collapsed": false
   },
   "outputs": [
    {
     "data": {
      "text/plain": [
       "'2009q2'"
      ]
     },
     "execution_count": 20,
     "metadata": {},
     "output_type": "execute_result"
    }
   ],
   "source": [
    "test.Quarter.iloc[test.loc[(test['Quarter']>=get_recession_start()) & (test['Quarter']<=get_recession_end())]['GDP'].argmin()]"
   ]
  },
  {
   "cell_type": "code",
   "execution_count": 21,
   "metadata": {
    "collapsed": false
   },
   "outputs": [],
   "source": [
    "def get_recession_bottom():\n",
    "    '''Returns the year and quarter of the recession bottom time as a \n",
    "    string value in a format such as 2005q3'''\n",
    "    test = pd.read_excel('gdplev.xls', header=None, skiprows=8, parse_cols =[4,5], names=['Quarter', 'GDP'])\n",
    "    ans=test.Quarter.iloc[test.loc[(test['Quarter']>=get_recession_start()) & (test['Quarter']<=get_recession_end())]['GDP'].argmin()]\n",
    "    return ans"
   ]
  },
  {
   "cell_type": "code",
   "execution_count": 22,
   "metadata": {
    "collapsed": false
   },
   "outputs": [
    {
     "data": {
      "text/plain": [
       "'2009q2'"
      ]
     },
     "execution_count": 22,
     "metadata": {},
     "output_type": "execute_result"
    }
   ],
   "source": [
    "get_recession_bottom()"
   ]
  },
  {
   "cell_type": "code",
   "execution_count": 23,
   "metadata": {
    "collapsed": false
   },
   "outputs": [],
   "source": [
    "df=pd.read_csv('City_Zhvi_AllHomes.csv')\n",
    "df['State']=df['State'].map(states)\n",
    "colnames = df.columns\n",
    "lst1 = ['State', 'RegionName']\n",
    "#lst1=list(colnames[1:3])\n",
    "lst2=list(colnames[list(colnames).index('2000-01'):])\n",
    "keepcols=lst1+lst2\n",
    "df=df[keepcols]\n",
    "dfmelt=pd.melt(df, id_vars=lst1, var_name=\"Date\", value_name=\"Value\")\n",
    "dfmelt['Date'] = pd.to_datetime(dfmelt['Date'])\n",
    "dfmelt['Year'] = pd.DatetimeIndex(dfmelt['Date']).year\n",
    "dfmelt['Quarter'] = pd.DatetimeIndex(dfmelt['Date']).quarter\n",
    "dfmelt['q'] = 'q'\n",
    "dfmelt['Date'] = dfmelt['Year'].map(str)+dfmelt['q']+dfmelt['Quarter'].map(str)\n",
    "dfmelt.drop(['Year', 'Quarter', 'q'], axis=1, inplace=True)\n",
    "dfgroup=dfmelt.groupby(['State', 'RegionName', 'Date']).mean()\n",
    "dfgroup.reset_index(inplace=True)\n",
    "ptable=pd.pivot_table(dfgroup, index=['State', 'RegionName'], columns=['Date'], values='Value')\n",
    "dummytable=df[['State', 'RegionName', '2000-01']].set_index(['State', 'RegionName'])\n",
    "ans=pd.merge(dummytable, ptable, how='left',  left_index=['State', 'RegionName'], right_index=['State', 'RegionName'] )\n",
    "ans.drop(['2000-01'], inplace=True, axis=1)"
   ]
  },
  {
   "cell_type": "code",
   "execution_count": 24,
   "metadata": {
    "collapsed": false
   },
   "outputs": [],
   "source": [
    "dummytable=df[['State', 'RegionName', '2000-01']].set_index(['State', 'RegionName'])"
   ]
  },
  {
   "cell_type": "code",
   "execution_count": 25,
   "metadata": {
    "collapsed": false
   },
   "outputs": [],
   "source": [
    "ans=pd.merge(dummytable, ptable, how='left',  left_index=['State', 'RegionName'], right_index=['State', 'RegionName'] )"
   ]
  },
  {
   "cell_type": "code",
   "execution_count": 26,
   "metadata": {
    "collapsed": false
   },
   "outputs": [],
   "source": [
    "ans.drop('2000-01', inplace=True)"
   ]
  },
  {
   "cell_type": "code",
   "execution_count": 27,
   "metadata": {
    "collapsed": false
   },
   "outputs": [],
   "source": [
    "dfgroup=dfmelt.groupby(['State', 'RegionName', 'Date']).mean()"
   ]
  },
  {
   "cell_type": "code",
   "execution_count": 28,
   "metadata": {
    "collapsed": false
   },
   "outputs": [
    {
     "data": {
      "text/html": [
       "<div>\n",
       "<table border=\"1\" class=\"dataframe\">\n",
       "  <thead>\n",
       "    <tr style=\"text-align: right;\">\n",
       "      <th></th>\n",
       "      <th></th>\n",
       "      <th></th>\n",
       "      <th>Value</th>\n",
       "    </tr>\n",
       "    <tr>\n",
       "      <th>State</th>\n",
       "      <th>RegionName</th>\n",
       "      <th>Date</th>\n",
       "      <th></th>\n",
       "    </tr>\n",
       "  </thead>\n",
       "  <tbody>\n",
       "    <tr>\n",
       "      <th rowspan=\"5\" valign=\"top\">Alabama</th>\n",
       "      <th rowspan=\"5\" valign=\"top\">Adamsville</th>\n",
       "      <th>2000q1</th>\n",
       "      <td>69033.333333</td>\n",
       "    </tr>\n",
       "    <tr>\n",
       "      <th>2000q2</th>\n",
       "      <td>69166.666667</td>\n",
       "    </tr>\n",
       "    <tr>\n",
       "      <th>2000q3</th>\n",
       "      <td>69800.000000</td>\n",
       "    </tr>\n",
       "    <tr>\n",
       "      <th>2000q4</th>\n",
       "      <td>71966.666667</td>\n",
       "    </tr>\n",
       "    <tr>\n",
       "      <th>2001q1</th>\n",
       "      <td>73466.666667</td>\n",
       "    </tr>\n",
       "  </tbody>\n",
       "</table>\n",
       "</div>"
      ],
      "text/plain": [
       "                                  Value\n",
       "State   RegionName Date                \n",
       "Alabama Adamsville 2000q1  69033.333333\n",
       "                   2000q2  69166.666667\n",
       "                   2000q3  69800.000000\n",
       "                   2000q4  71966.666667\n",
       "                   2001q1  73466.666667"
      ]
     },
     "execution_count": 28,
     "metadata": {},
     "output_type": "execute_result"
    }
   ],
   "source": [
    "dfgroup.head()"
   ]
  },
  {
   "cell_type": "code",
   "execution_count": 29,
   "metadata": {
    "collapsed": false
   },
   "outputs": [],
   "source": [
    "dfgroup.reset_index(inplace=True)"
   ]
  },
  {
   "cell_type": "code",
   "execution_count": 30,
   "metadata": {
    "collapsed": false
   },
   "outputs": [
    {
     "data": {
      "text/html": [
       "<div>\n",
       "<table border=\"1\" class=\"dataframe\">\n",
       "  <thead>\n",
       "    <tr style=\"text-align: right;\">\n",
       "      <th></th>\n",
       "      <th>State</th>\n",
       "      <th>RegionName</th>\n",
       "      <th>Date</th>\n",
       "      <th>Value</th>\n",
       "    </tr>\n",
       "  </thead>\n",
       "  <tbody>\n",
       "    <tr>\n",
       "      <th>0</th>\n",
       "      <td>Alabama</td>\n",
       "      <td>Adamsville</td>\n",
       "      <td>2000q1</td>\n",
       "      <td>69033.333333</td>\n",
       "    </tr>\n",
       "    <tr>\n",
       "      <th>1</th>\n",
       "      <td>Alabama</td>\n",
       "      <td>Adamsville</td>\n",
       "      <td>2000q2</td>\n",
       "      <td>69166.666667</td>\n",
       "    </tr>\n",
       "    <tr>\n",
       "      <th>2</th>\n",
       "      <td>Alabama</td>\n",
       "      <td>Adamsville</td>\n",
       "      <td>2000q3</td>\n",
       "      <td>69800.000000</td>\n",
       "    </tr>\n",
       "    <tr>\n",
       "      <th>3</th>\n",
       "      <td>Alabama</td>\n",
       "      <td>Adamsville</td>\n",
       "      <td>2000q4</td>\n",
       "      <td>71966.666667</td>\n",
       "    </tr>\n",
       "    <tr>\n",
       "      <th>4</th>\n",
       "      <td>Alabama</td>\n",
       "      <td>Adamsville</td>\n",
       "      <td>2001q1</td>\n",
       "      <td>73466.666667</td>\n",
       "    </tr>\n",
       "  </tbody>\n",
       "</table>\n",
       "</div>"
      ],
      "text/plain": [
       "     State  RegionName    Date         Value\n",
       "0  Alabama  Adamsville  2000q1  69033.333333\n",
       "1  Alabama  Adamsville  2000q2  69166.666667\n",
       "2  Alabama  Adamsville  2000q3  69800.000000\n",
       "3  Alabama  Adamsville  2000q4  71966.666667\n",
       "4  Alabama  Adamsville  2001q1  73466.666667"
      ]
     },
     "execution_count": 30,
     "metadata": {},
     "output_type": "execute_result"
    }
   ],
   "source": [
    "dfgroup.head()"
   ]
  },
  {
   "cell_type": "code",
   "execution_count": 31,
   "metadata": {
    "collapsed": false
   },
   "outputs": [
    {
     "data": {
      "text/plain": [
       "(709664, 4)"
      ]
     },
     "execution_count": 31,
     "metadata": {},
     "output_type": "execute_result"
    }
   ],
   "source": [
    "dfgroup.shape"
   ]
  },
  {
   "cell_type": "code",
   "execution_count": 32,
   "metadata": {
    "collapsed": false
   },
   "outputs": [],
   "source": [
    "#dfgroup.pivot(columns='Date', index='State', values='Value')"
   ]
  },
  {
   "cell_type": "code",
   "execution_count": 33,
   "metadata": {
    "collapsed": false
   },
   "outputs": [],
   "source": [
    "#colnames = df.columns"
   ]
  },
  {
   "cell_type": "code",
   "execution_count": 34,
   "metadata": {
    "collapsed": false
   },
   "outputs": [],
   "source": [
    "#[i for i,x in enumerate(colnames) if x=='2000-01']"
   ]
  },
  {
   "cell_type": "code",
   "execution_count": 35,
   "metadata": {
    "collapsed": false
   },
   "outputs": [],
   "source": [
    "#list(colnames).index('2000-01')"
   ]
  },
  {
   "cell_type": "code",
   "execution_count": 36,
   "metadata": {
    "collapsed": false
   },
   "outputs": [],
   "source": [
    "#pd.to_datetime(colnames[6:]).quarter"
   ]
  },
  {
   "cell_type": "code",
   "execution_count": 37,
   "metadata": {
    "collapsed": false
   },
   "outputs": [],
   "source": [
    "#datetimelist=[]\n",
    "#for i in colnames[6:]:\n",
    "#    print(str(pd.to_datetime(i).year)+'q'+str(pd.to_datetime(i).quarter))\n",
    "#    datetimelist.append(str(pd.to_datetime(i).year)+'q'+str(pd.to_datetime(i).quarter))"
   ]
  },
  {
   "cell_type": "code",
   "execution_count": 38,
   "metadata": {
    "collapsed": false
   },
   "outputs": [],
   "source": [
    "def convert_housing_data_to_quarters():\n",
    "    '''Converts the housing data to quarters and returns it as mean \n",
    "    values in a dataframe. This dataframe should be a dataframe with\n",
    "    columns for 2000q1 through 2016q3, and should have a multi-index\n",
    "    in the shape of [\"State\",\"RegionName\"].\n",
    "    \n",
    "    Note: Quarters are defined in the assignment description, they are\n",
    "    not arbitrary three month periods.\n",
    "    \n",
    "    The resulting dataframe should have 67 columns, and 10,730 rows.\n",
    "    '''\n",
    "    df=pd.read_csv('City_Zhvi_AllHomes.csv')\n",
    "    df['State']=df['State'].map(states)\n",
    "    colnames = df.columns\n",
    "    lst1 = ['State', 'RegionName']\n",
    "    #lst1=list(colnames[1:3])\n",
    "    lst2=list(colnames[list(colnames).index('2000-01'):])\n",
    "    keepcols=lst1+lst2\n",
    "    df=df[keepcols]\n",
    "    dfmelt=pd.melt(df, id_vars=lst1, var_name=\"Date\", value_name=\"Value\")\n",
    "    dfmelt['Date'] = pd.to_datetime(dfmelt['Date'])\n",
    "    dfmelt['Year'] = pd.DatetimeIndex(dfmelt['Date']).year\n",
    "    dfmelt['Quarter'] = pd.DatetimeIndex(dfmelt['Date']).quarter\n",
    "    dfmelt['q'] = 'q'\n",
    "    dfmelt['Date'] = dfmelt['Year'].map(str)+dfmelt['q']+dfmelt['Quarter'].map(str)\n",
    "    dfmelt.drop(['Year', 'Quarter', 'q'], axis=1, inplace=True)\n",
    "    dfgroup=dfmelt.groupby(['State', 'RegionName', 'Date']).mean()\n",
    "    dfgroup.reset_index(inplace=True)\n",
    "    ptable=pd.pivot_table(dfgroup, index=['State', 'RegionName'], columns=['Date'], values='Value')\n",
    "    dummytable=df[['State', 'RegionName', '2000-01']].set_index(['State', 'RegionName'])\n",
    "    ans=pd.merge(dummytable, ptable, how='left',  left_index=['State', 'RegionName'], right_index=['State', 'RegionName'] )\n",
    "    ans.drop(['2000-01'], inplace=True, axis=1)\n",
    "    return ans"
   ]
  },
  {
   "cell_type": "code",
   "execution_count": 39,
   "metadata": {
    "collapsed": false
   },
   "outputs": [
    {
     "data": {
      "text/html": [
       "<div>\n",
       "<table border=\"1\" class=\"dataframe\">\n",
       "  <thead>\n",
       "    <tr style=\"text-align: right;\">\n",
       "      <th></th>\n",
       "      <th></th>\n",
       "      <th>2000q1</th>\n",
       "      <th>2000q2</th>\n",
       "      <th>2000q3</th>\n",
       "      <th>2000q4</th>\n",
       "      <th>2001q1</th>\n",
       "      <th>2001q2</th>\n",
       "      <th>2001q3</th>\n",
       "      <th>2001q4</th>\n",
       "      <th>2002q1</th>\n",
       "      <th>2002q2</th>\n",
       "      <th>...</th>\n",
       "      <th>2014q2</th>\n",
       "      <th>2014q3</th>\n",
       "      <th>2014q4</th>\n",
       "      <th>2015q1</th>\n",
       "      <th>2015q2</th>\n",
       "      <th>2015q3</th>\n",
       "      <th>2015q4</th>\n",
       "      <th>2016q1</th>\n",
       "      <th>2016q2</th>\n",
       "      <th>2016q3</th>\n",
       "    </tr>\n",
       "    <tr>\n",
       "      <th>State</th>\n",
       "      <th>RegionName</th>\n",
       "      <th></th>\n",
       "      <th></th>\n",
       "      <th></th>\n",
       "      <th></th>\n",
       "      <th></th>\n",
       "      <th></th>\n",
       "      <th></th>\n",
       "      <th></th>\n",
       "      <th></th>\n",
       "      <th></th>\n",
       "      <th></th>\n",
       "      <th></th>\n",
       "      <th></th>\n",
       "      <th></th>\n",
       "      <th></th>\n",
       "      <th></th>\n",
       "      <th></th>\n",
       "      <th></th>\n",
       "      <th></th>\n",
       "      <th></th>\n",
       "      <th></th>\n",
       "    </tr>\n",
       "  </thead>\n",
       "  <tbody>\n",
       "    <tr>\n",
       "      <th rowspan=\"5\" valign=\"top\">Alabama</th>\n",
       "      <th>Adamsville</th>\n",
       "      <td>69033.333333</td>\n",
       "      <td>69166.666667</td>\n",
       "      <td>69800.000000</td>\n",
       "      <td>71966.666667</td>\n",
       "      <td>73466.666667</td>\n",
       "      <td>74000.000000</td>\n",
       "      <td>73333.333333</td>\n",
       "      <td>73100.000000</td>\n",
       "      <td>73333.333333</td>\n",
       "      <td>73133.333333</td>\n",
       "      <td>...</td>\n",
       "      <td>77066.666667</td>\n",
       "      <td>75966.666667</td>\n",
       "      <td>71900.0</td>\n",
       "      <td>71666.666667</td>\n",
       "      <td>73033.333333</td>\n",
       "      <td>73933.333333</td>\n",
       "      <td>73866.666667</td>\n",
       "      <td>74166.666667</td>\n",
       "      <td>74933.333333</td>\n",
       "      <td>74700.0</td>\n",
       "    </tr>\n",
       "    <tr>\n",
       "      <th>Alabaster</th>\n",
       "      <td>122133.333333</td>\n",
       "      <td>123066.666667</td>\n",
       "      <td>123166.666667</td>\n",
       "      <td>123700.000000</td>\n",
       "      <td>123233.333333</td>\n",
       "      <td>125133.333333</td>\n",
       "      <td>127766.666667</td>\n",
       "      <td>127200.000000</td>\n",
       "      <td>127300.000000</td>\n",
       "      <td>128000.000000</td>\n",
       "      <td>...</td>\n",
       "      <td>147133.333333</td>\n",
       "      <td>147633.333333</td>\n",
       "      <td>148700.0</td>\n",
       "      <td>148900.000000</td>\n",
       "      <td>149566.666667</td>\n",
       "      <td>150366.666667</td>\n",
       "      <td>151733.333333</td>\n",
       "      <td>153466.666667</td>\n",
       "      <td>155100.000000</td>\n",
       "      <td>155850.0</td>\n",
       "    </tr>\n",
       "    <tr>\n",
       "      <th>Albertville</th>\n",
       "      <td>73966.666667</td>\n",
       "      <td>72600.000000</td>\n",
       "      <td>72833.333333</td>\n",
       "      <td>74200.000000</td>\n",
       "      <td>75900.000000</td>\n",
       "      <td>76000.000000</td>\n",
       "      <td>72066.666667</td>\n",
       "      <td>73566.666667</td>\n",
       "      <td>76533.333333</td>\n",
       "      <td>76366.666667</td>\n",
       "      <td>...</td>\n",
       "      <td>84033.333333</td>\n",
       "      <td>84766.666667</td>\n",
       "      <td>86800.0</td>\n",
       "      <td>88466.666667</td>\n",
       "      <td>89500.000000</td>\n",
       "      <td>90233.333333</td>\n",
       "      <td>91366.666667</td>\n",
       "      <td>92000.000000</td>\n",
       "      <td>92466.666667</td>\n",
       "      <td>92200.0</td>\n",
       "    </tr>\n",
       "    <tr>\n",
       "      <th>Arab</th>\n",
       "      <td>83766.666667</td>\n",
       "      <td>81566.666667</td>\n",
       "      <td>81333.333333</td>\n",
       "      <td>82966.666667</td>\n",
       "      <td>84200.000000</td>\n",
       "      <td>84533.333333</td>\n",
       "      <td>81666.666667</td>\n",
       "      <td>83900.000000</td>\n",
       "      <td>87266.666667</td>\n",
       "      <td>87700.000000</td>\n",
       "      <td>...</td>\n",
       "      <td>113366.666667</td>\n",
       "      <td>111700.000000</td>\n",
       "      <td>111600.0</td>\n",
       "      <td>110166.666667</td>\n",
       "      <td>109433.333333</td>\n",
       "      <td>110900.000000</td>\n",
       "      <td>112233.333333</td>\n",
       "      <td>110033.333333</td>\n",
       "      <td>110100.000000</td>\n",
       "      <td>112000.0</td>\n",
       "    </tr>\n",
       "    <tr>\n",
       "      <th>Ardmore</th>\n",
       "      <td>NaN</td>\n",
       "      <td>NaN</td>\n",
       "      <td>NaN</td>\n",
       "      <td>NaN</td>\n",
       "      <td>NaN</td>\n",
       "      <td>NaN</td>\n",
       "      <td>NaN</td>\n",
       "      <td>NaN</td>\n",
       "      <td>NaN</td>\n",
       "      <td>NaN</td>\n",
       "      <td>...</td>\n",
       "      <td>140533.333333</td>\n",
       "      <td>139566.666667</td>\n",
       "      <td>140900.0</td>\n",
       "      <td>143233.333333</td>\n",
       "      <td>143000.000000</td>\n",
       "      <td>144600.000000</td>\n",
       "      <td>143966.666667</td>\n",
       "      <td>142566.666667</td>\n",
       "      <td>143233.333333</td>\n",
       "      <td>141950.0</td>\n",
       "    </tr>\n",
       "  </tbody>\n",
       "</table>\n",
       "<p>5 rows × 67 columns</p>\n",
       "</div>"
      ],
      "text/plain": [
       "                            2000q1         2000q2         2000q3  \\\n",
       "State   RegionName                                                 \n",
       "Alabama Adamsville    69033.333333   69166.666667   69800.000000   \n",
       "        Alabaster    122133.333333  123066.666667  123166.666667   \n",
       "        Albertville   73966.666667   72600.000000   72833.333333   \n",
       "        Arab          83766.666667   81566.666667   81333.333333   \n",
       "        Ardmore                NaN            NaN            NaN   \n",
       "\n",
       "                            2000q4         2001q1         2001q2  \\\n",
       "State   RegionName                                                 \n",
       "Alabama Adamsville    71966.666667   73466.666667   74000.000000   \n",
       "        Alabaster    123700.000000  123233.333333  125133.333333   \n",
       "        Albertville   74200.000000   75900.000000   76000.000000   \n",
       "        Arab          82966.666667   84200.000000   84533.333333   \n",
       "        Ardmore                NaN            NaN            NaN   \n",
       "\n",
       "                            2001q3         2001q4         2002q1  \\\n",
       "State   RegionName                                                 \n",
       "Alabama Adamsville    73333.333333   73100.000000   73333.333333   \n",
       "        Alabaster    127766.666667  127200.000000  127300.000000   \n",
       "        Albertville   72066.666667   73566.666667   76533.333333   \n",
       "        Arab          81666.666667   83900.000000   87266.666667   \n",
       "        Ardmore                NaN            NaN            NaN   \n",
       "\n",
       "                            2002q2    ...            2014q2         2014q3  \\\n",
       "State   RegionName                    ...                                    \n",
       "Alabama Adamsville    73133.333333    ...      77066.666667   75966.666667   \n",
       "        Alabaster    128000.000000    ...     147133.333333  147633.333333   \n",
       "        Albertville   76366.666667    ...      84033.333333   84766.666667   \n",
       "        Arab          87700.000000    ...     113366.666667  111700.000000   \n",
       "        Ardmore                NaN    ...     140533.333333  139566.666667   \n",
       "\n",
       "                       2014q4         2015q1         2015q2         2015q3  \\\n",
       "State   RegionName                                                           \n",
       "Alabama Adamsville    71900.0   71666.666667   73033.333333   73933.333333   \n",
       "        Alabaster    148700.0  148900.000000  149566.666667  150366.666667   \n",
       "        Albertville   86800.0   88466.666667   89500.000000   90233.333333   \n",
       "        Arab         111600.0  110166.666667  109433.333333  110900.000000   \n",
       "        Ardmore      140900.0  143233.333333  143000.000000  144600.000000   \n",
       "\n",
       "                            2015q4         2016q1         2016q2    2016q3  \n",
       "State   RegionName                                                          \n",
       "Alabama Adamsville    73866.666667   74166.666667   74933.333333   74700.0  \n",
       "        Alabaster    151733.333333  153466.666667  155100.000000  155850.0  \n",
       "        Albertville   91366.666667   92000.000000   92466.666667   92200.0  \n",
       "        Arab         112233.333333  110033.333333  110100.000000  112000.0  \n",
       "        Ardmore      143966.666667  142566.666667  143233.333333  141950.0  \n",
       "\n",
       "[5 rows x 67 columns]"
      ]
     },
     "execution_count": 39,
     "metadata": {},
     "output_type": "execute_result"
    }
   ],
   "source": [
    "convert_housing_data_to_quarters().head()"
   ]
  },
  {
   "cell_type": "code",
   "execution_count": 59,
   "metadata": {
    "collapsed": false
   },
   "outputs": [],
   "source": [
    "unitowns = get_list_of_university_towns()\n",
    "bottom = get_recession_bottom()\n",
    "start = get_recession_start()\n",
    "hdata = convert_housing_data_to_quarters()\n",
    "hdata['ratio'] = hdata[bottom] - hdata[start]\n",
    "hdata = hdata[[bottom,start,'ratio']]\n"
   ]
  },
  {
   "cell_type": "code",
   "execution_count": 60,
   "metadata": {
    "collapsed": false
   },
   "outputs": [
    {
     "data": {
      "text/html": [
       "<div>\n",
       "<table border=\"1\" class=\"dataframe\">\n",
       "  <thead>\n",
       "    <tr style=\"text-align: right;\">\n",
       "      <th></th>\n",
       "      <th>State</th>\n",
       "      <th>RegionName</th>\n",
       "      <th>2009q2</th>\n",
       "      <th>2008q3</th>\n",
       "      <th>ratio</th>\n",
       "    </tr>\n",
       "  </thead>\n",
       "  <tbody>\n",
       "    <tr>\n",
       "      <th>0</th>\n",
       "      <td>Alabama</td>\n",
       "      <td>Adamsville</td>\n",
       "      <td>85766.666667</td>\n",
       "      <td>84866.666667</td>\n",
       "      <td>900.000000</td>\n",
       "    </tr>\n",
       "    <tr>\n",
       "      <th>1</th>\n",
       "      <td>Alabama</td>\n",
       "      <td>Alabaster</td>\n",
       "      <td>149666.666667</td>\n",
       "      <td>155333.333333</td>\n",
       "      <td>-5666.666667</td>\n",
       "    </tr>\n",
       "    <tr>\n",
       "      <th>2</th>\n",
       "      <td>Alabama</td>\n",
       "      <td>Albertville</td>\n",
       "      <td>84333.333333</td>\n",
       "      <td>85333.333333</td>\n",
       "      <td>-1000.000000</td>\n",
       "    </tr>\n",
       "    <tr>\n",
       "      <th>3</th>\n",
       "      <td>Alabama</td>\n",
       "      <td>Arab</td>\n",
       "      <td>115366.666667</td>\n",
       "      <td>108933.333333</td>\n",
       "      <td>6433.333333</td>\n",
       "    </tr>\n",
       "    <tr>\n",
       "      <th>4</th>\n",
       "      <td>Alabama</td>\n",
       "      <td>Ardmore</td>\n",
       "      <td>143900.000000</td>\n",
       "      <td>149100.000000</td>\n",
       "      <td>-5200.000000</td>\n",
       "    </tr>\n",
       "  </tbody>\n",
       "</table>\n",
       "</div>"
      ],
      "text/plain": [
       "     State   RegionName         2009q2         2008q3        ratio\n",
       "0  Alabama   Adamsville   85766.666667   84866.666667   900.000000\n",
       "1  Alabama    Alabaster  149666.666667  155333.333333 -5666.666667\n",
       "2  Alabama  Albertville   84333.333333   85333.333333 -1000.000000\n",
       "3  Alabama         Arab  115366.666667  108933.333333  6433.333333\n",
       "4  Alabama      Ardmore  143900.000000  149100.000000 -5200.000000"
      ]
     },
     "execution_count": 60,
     "metadata": {},
     "output_type": "execute_result"
    }
   ],
   "source": [
    "uni_town = set(unitowns['RegionName'])\n",
    "hdata=hdata.reset_index()\n",
    "\n",
    "hdata.head()"
   ]
  },
  {
   "cell_type": "code",
   "execution_count": 62,
   "metadata": {
    "collapsed": false
   },
   "outputs": [],
   "source": [
    "def is_uni_town(row):\n",
    "        #check if the town is a university towns or not.\n",
    "        if row['RegionName'] in uni_town:\n",
    "            return 1\n",
    "        else:\n",
    "            return 0\n",
    "hdata['is_uni'] = hdata.apply(is_uni_town, axis=1)"
   ]
  },
  {
   "cell_type": "code",
   "execution_count": 58,
   "metadata": {
    "collapsed": false
   },
   "outputs": [
    {
     "data": {
      "text/html": [
       "<div>\n",
       "<table border=\"1\" class=\"dataframe\">\n",
       "  <thead>\n",
       "    <tr style=\"text-align: right;\">\n",
       "      <th></th>\n",
       "      <th>State</th>\n",
       "      <th>RegionName</th>\n",
       "      <th>2009q2</th>\n",
       "      <th>2008q3</th>\n",
       "      <th>ratio</th>\n",
       "      <th>is_uni</th>\n",
       "    </tr>\n",
       "  </thead>\n",
       "  <tbody>\n",
       "    <tr>\n",
       "      <th>0</th>\n",
       "      <td>Alabama</td>\n",
       "      <td>Adamsville</td>\n",
       "      <td>85766.666667</td>\n",
       "      <td>84866.666667</td>\n",
       "      <td>900.000000</td>\n",
       "      <td>0</td>\n",
       "    </tr>\n",
       "    <tr>\n",
       "      <th>1</th>\n",
       "      <td>Alabama</td>\n",
       "      <td>Alabaster</td>\n",
       "      <td>149666.666667</td>\n",
       "      <td>155333.333333</td>\n",
       "      <td>-5666.666667</td>\n",
       "      <td>0</td>\n",
       "    </tr>\n",
       "    <tr>\n",
       "      <th>2</th>\n",
       "      <td>Alabama</td>\n",
       "      <td>Albertville</td>\n",
       "      <td>84333.333333</td>\n",
       "      <td>85333.333333</td>\n",
       "      <td>-1000.000000</td>\n",
       "      <td>0</td>\n",
       "    </tr>\n",
       "    <tr>\n",
       "      <th>3</th>\n",
       "      <td>Alabama</td>\n",
       "      <td>Arab</td>\n",
       "      <td>115366.666667</td>\n",
       "      <td>108933.333333</td>\n",
       "      <td>6433.333333</td>\n",
       "      <td>0</td>\n",
       "    </tr>\n",
       "    <tr>\n",
       "      <th>4</th>\n",
       "      <td>Alabama</td>\n",
       "      <td>Ardmore</td>\n",
       "      <td>143900.000000</td>\n",
       "      <td>149100.000000</td>\n",
       "      <td>-5200.000000</td>\n",
       "      <td>0</td>\n",
       "    </tr>\n",
       "  </tbody>\n",
       "</table>\n",
       "</div>"
      ],
      "text/plain": [
       "     State   RegionName         2009q2         2008q3        ratio  is_uni\n",
       "0  Alabama   Adamsville   85766.666667   84866.666667   900.000000       0\n",
       "1  Alabama    Alabaster  149666.666667  155333.333333 -5666.666667       0\n",
       "2  Alabama  Albertville   84333.333333   85333.333333 -1000.000000       0\n",
       "3  Alabama         Arab  115366.666667  108933.333333  6433.333333       0\n",
       "4  Alabama      Ardmore  143900.000000  149100.000000 -5200.000000       0"
      ]
     },
     "execution_count": 58,
     "metadata": {},
     "output_type": "execute_result"
    }
   ],
   "source": [
    "hdata.head()"
   ]
  },
  {
   "cell_type": "code",
   "execution_count": 69,
   "metadata": {
    "collapsed": false
   },
   "outputs": [],
   "source": [
    "nu=hdata.loc[hdata['is_uni']==0]['ratio'].dropna()\n",
    "un=hdata.loc[hdata['is_uni']==1]['ratio'].dropna()"
   ]
  },
  {
   "cell_type": "code",
   "execution_count": 70,
   "metadata": {
    "collapsed": false
   },
   "outputs": [
    {
     "data": {
      "text/plain": [
       "-13287.494550806408"
      ]
     },
     "execution_count": 70,
     "metadata": {},
     "output_type": "execute_result"
    }
   ],
   "source": [
    "nu.mean()"
   ]
  },
  {
   "cell_type": "code",
   "execution_count": 71,
   "metadata": {
    "collapsed": false
   },
   "outputs": [
    {
     "data": {
      "text/plain": [
       "-9350.3904644471841"
      ]
     },
     "execution_count": 71,
     "metadata": {},
     "output_type": "execute_result"
    }
   ],
   "source": [
    "un.mean()"
   ]
  },
  {
   "cell_type": "code",
   "execution_count": 78,
   "metadata": {
    "collapsed": false
   },
   "outputs": [],
   "source": [
    "def run_ttest():\n",
    "    '''First creates new data showing the decline or growth of housing prices\n",
    "    between the recession start and the recession bottom. Then runs a ttest\n",
    "    comparing the university town values to the non-university towns values, \n",
    "    return whether the alternative hypothesis (that the two groups are the same)\n",
    "    is true or not as well as the p-value of the confidence. \n",
    "    \n",
    "    Return the tuple (different, p, better) where different=True if the t-test is\n",
    "    True at a p<0.01 (we reject the null hypothesis), or different=False if \n",
    "    otherwise (we cannot reject the null hypothesis). The variable p should\n",
    "    be equal to the exact p value returned from scipy.stats.ttest_ind(). The\n",
    "    value for better should be either \"university town\" or \"non-university town\"\n",
    "    depending on which has a lower mean price ratio (which is equivilent to a\n",
    "    reduced market loss).'''\n",
    "    \n",
    "    \n",
    "    unitowns = get_list_of_university_towns()\n",
    "    bottom = get_recession_bottom()\n",
    "    start = get_recession_start()\n",
    "    hdata = convert_housing_data_to_quarters()\n",
    "    hdata['ratio'] = hdata[bottom] - hdata[start]\n",
    "    hdata = hdata[[bottom,start,'ratio']]\n",
    "    uni_town = set(unitowns['RegionName'])\n",
    "    hdata=hdata.reset_index()\n",
    "    hdata['is_uni'] = hdata.apply(is_uni_town, axis=1)\n",
    "    nu=hdata.loc[hdata['is_uni']==0]['ratio'].dropna()\n",
    "    un=hdata.loc[hdata['is_uni']==1]['ratio'].dropna()\n",
    "    p_val = list(ttest_ind(nu, un))[1]\n",
    "    result = (True,p_val,'university town')\n",
    "    return result"
   ]
  },
  {
   "cell_type": "code",
   "execution_count": 79,
   "metadata": {
    "collapsed": false
   },
   "outputs": [
    {
     "data": {
      "text/plain": [
       "(True, 7.5252146217457879e-06, 'university town')"
      ]
     },
     "execution_count": 79,
     "metadata": {},
     "output_type": "execute_result"
    }
   ],
   "source": [
    "run_ttest()"
   ]
  },
  {
   "cell_type": "code",
   "execution_count": null,
   "metadata": {
    "collapsed": true
   },
   "outputs": [],
   "source": []
  }
 ],
 "metadata": {
  "coursera": {
   "course_slug": "python-data-analysis",
   "graded_item_id": "Il9Fx",
   "launcher_item_id": "TeDW0",
   "part_id": "WGlun"
  },
  "kernelspec": {
   "display_name": "Python 3",
   "language": "python",
   "name": "python3"
  },
  "language_info": {
   "codemirror_mode": {
    "name": "ipython",
    "version": 3
   },
   "file_extension": ".py",
   "mimetype": "text/x-python",
   "name": "python",
   "nbconvert_exporter": "python",
   "pygments_lexer": "ipython3",
   "version": "3.5.2"
  }
 },
 "nbformat": 4,
 "nbformat_minor": 0
}
